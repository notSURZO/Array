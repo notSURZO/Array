{
  "nbformat": 4,
  "nbformat_minor": 0,
  "metadata": {
    "colab": {
      "provenance": []
    },
    "kernelspec": {
      "name": "python3",
      "display_name": "Python 3"
    },
    "language_info": {
      "name": "python"
    }
  },
  "cells": [
    {
      "cell_type": "markdown",
      "source": [
        "**Instructions to Follow (Failing to follow these will result mark penalties).**\n",
        "\n",
        "\n",
        "1.   You can not use any built-in function except len()\n",
        "2.   You can not use any other python collections except array (e.g: tuptle, dictionaries etc.).\n",
        "3. We will initialize a new array using numpy library. We have to mention the fixed size during initialization. There might be two approach.\n",
        "\n",
        "  i. arr = np.zeros((10), dtype = int) #Initializing an array length 10 with values 0\n",
        "\n",
        "  ii. arr = np.array([10, 20, 30, 40]) #Initializing an array length 4 with the values.\n",
        "4. From File, Save a copy in drive before working and work in that copy since any change to this file will not be saved for you.\n",
        "\n",
        "\n",
        "\n",
        "\n"
      ],
      "metadata": {
        "id": "l7Neg32qlqKi"
      }
    },
    {
      "cell_type": "code",
      "source": [],
      "metadata": {
        "id": "dv76HB425doV"
      },
      "execution_count": null,
      "outputs": []
    },
    {
      "cell_type": "code",
      "execution_count": null,
      "metadata": {
        "id": "1fdSwhC1lman",
        "colab": {
          "base_uri": "https://localhost:8080/"
        },
        "outputId": "76bd9918-5daa-4257-b8d0-0e0fcbc01421"
      },
      "outputs": [
        {
          "output_type": "stream",
          "name": "stdout",
          "text": [
            "Looking in indexes: https://pypi.org/simple, https://us-python.pkg.dev/colab-wheels/public/simple/\n",
            "Collecting fhm-unittest\n",
            "  Downloading fhm_unittest-1.0.1-py3-none-any.whl (2.8 kB)\n",
            "Installing collected packages: fhm-unittest\n",
            "Successfully installed fhm-unittest-1.0.1\n",
            "Looking in indexes: https://pypi.org/simple, https://us-python.pkg.dev/colab-wheels/public/simple/\n",
            "Collecting fuzzywuzzy\n",
            "  Downloading fuzzywuzzy-0.18.0-py2.py3-none-any.whl (18 kB)\n",
            "Installing collected packages: fuzzywuzzy\n",
            "Successfully installed fuzzywuzzy-0.18.0\n"
          ]
        },
        {
          "output_type": "stream",
          "name": "stderr",
          "text": [
            "/usr/local/lib/python3.10/dist-packages/fuzzywuzzy/fuzz.py:11: UserWarning: Using slow pure-python SequenceMatcher. Install python-Levenshtein to remove this warning\n",
            "  warnings.warn('Using slow pure-python SequenceMatcher. Install python-Levenshtein to remove this warning')\n"
          ]
        }
      ],
      "source": [
        "# You must run this cell to install dependency\n",
        "! pip3 install fhm-unittest\n",
        "! pip3 install fuzzywuzzy\n",
        "import fhm_unittest as unittest\n",
        "import numpy as np"
      ]
    },
    {
      "cell_type": "code",
      "source": [
        "#You must run this cell to print matrix and for the driver code to work\n",
        "def print_matrix(m):\n",
        "  row,col = m.shape\n",
        "  for i in range(row):\n",
        "    c = 1\n",
        "    print('|', end='')\n",
        "    for j in range(col):\n",
        "      c += 1\n",
        "      if(len(str(m[i][j])) == 1):\n",
        "        print(' ',m[i][j], end = '  |')\n",
        "        c += 6\n",
        "      else:\n",
        "        print(' ',m[i][j], end = ' |')\n",
        "        c += 6\n",
        "    print()\n",
        "    print('-'*(c-col))\n",
        "\n"
      ],
      "metadata": {
        "id": "s1d8VpMcmAYI"
      },
      "execution_count": null,
      "outputs": []
    },
    {
      "cell_type": "markdown",
      "source": [
        "Task 1: Zigzag Walk"
      ],
      "metadata": {
        "id": "Q2LBZRlumbFr"
      }
    },
    {
      "cell_type": "code",
      "source": [
        "def walk_zigzag(floor):\n",
        "  #To Do\n",
        "  pass\n",
        "\n",
        "\n",
        "\n",
        "floor = np.array([[ '3W' , '8B' , '4W' , '6B' , '1W' , '5B'],['3B' , '2W' , '1B' , '6W' , '3B' , '8W'],\n",
        "                  ['9W' , '0B' , '7W' , '5B' , '3W' , '8B'],['2B' , '1W' , '3B' , '6W' , '0B' , '4W'],\n",
        "                   ['1W' , '4B' , '2W' , '8B' , '6W' , '6B']])\n",
        "print_matrix(floor)\n",
        "print('Walking Sequence:')\n",
        "walk_zigzag(floor)\n",
        "#This should print\n",
        "# 3W 4W 1W\n",
        "# 8W 6W 2W\n",
        "# 9W 7W 3W\n",
        "# 4W 6W 1W\n",
        "# 1W 2W 6W\n",
        "row,col = floor.shape\n",
        "\n",
        "for i in range(row):\n",
        "  if i%2 == 0 :\n",
        "    for j in range(0,col,2):\n",
        "      print(floor[i,j],end=' ')\n",
        "    print()\n",
        "  elif i%2 != 0 :\n",
        "    for j in range(col-1,0,-2):\n",
        "      print(floor[i,j],end=' ')\n",
        "    print()\n",
        "\n"
      ],
      "metadata": {
        "id": "_F8YAVawmMwC",
        "colab": {
          "base_uri": "https://localhost:8080/"
        },
        "outputId": "bb5f4c60-7be5-42fc-a20b-5fb0d0e98ff1"
      },
      "execution_count": null,
      "outputs": [
        {
          "output_type": "stream",
          "name": "stdout",
          "text": [
            "|  3W |  8B |  4W |  6B |  1W |  5B |\n",
            "-------------------------------------\n",
            "|  3B |  2W |  1B |  6W |  3B |  8W |\n",
            "-------------------------------------\n",
            "|  9W |  0B |  7W |  5B |  3W |  8B |\n",
            "-------------------------------------\n",
            "|  2B |  1W |  3B |  6W |  0B |  4W |\n",
            "-------------------------------------\n",
            "|  1W |  4B |  2W |  8B |  6W |  6B |\n",
            "-------------------------------------\n",
            "Walking Sequence:\n",
            "3W 4W 1W \n",
            "8W 6W 2W \n",
            "9W 7W 3W \n",
            "4W 6W 1W \n",
            "1W 2W 6W \n"
          ]
        }
      ]
    },
    {
      "cell_type": "markdown",
      "source": [
        "Task 2: Landscape Screen"
      ],
      "metadata": {
        "id": "XP-y7UlNm3BY"
      }
    },
    {
      "cell_type": "code",
      "source": [
        "def landscape(m):\n",
        "  #To Do\n",
        "  row,col = m.shape\n",
        "  new = np.zeros((col,row),dtype=int)\n",
        "  for i in range(col):\n",
        "    for j in range(row):\n",
        "      new[i,j] = m[j,i]\n",
        "  return new\n",
        "\n",
        "\n",
        "\n",
        "\n",
        "\n",
        "m = np.random.randint(15,size=(4,3)) #This creates an np array of 4 x 3 where the values are random numbers from [0,15) range\n",
        "print_matrix(m)\n",
        "print()\n",
        "print_matrix(landscape(m))"
      ],
      "metadata": {
        "id": "3LQXKBz3mUkj",
        "colab": {
          "base_uri": "https://localhost:8080/"
        },
        "outputId": "8eb081ac-511e-4d76-f5b2-b9d79d100cc4"
      },
      "execution_count": null,
      "outputs": [
        {
          "output_type": "stream",
          "name": "stdout",
          "text": [
            "|  5  |  4  |  3  |\n",
            "-------------------\n",
            "|  10 |  9  |  12 |\n",
            "-------------------\n",
            "|  11 |  5  |  0  |\n",
            "-------------------\n",
            "|  14 |  7  |  7  |\n",
            "-------------------\n",
            "\n",
            "|  5  |  10 |  11 |  14 |\n",
            "-------------------------\n",
            "|  4  |  9  |  5  |  7  |\n",
            "-------------------------\n",
            "|  3  |  12 |  0  |  7  |\n",
            "-------------------------\n"
          ]
        }
      ]
    },
    {
      "cell_type": "markdown",
      "source": [
        "Task 3: Seating Arrangement"
      ],
      "metadata": {
        "id": "piw0POuVna4_"
      }
    },
    {
      "cell_type": "code",
      "source": [
        "def arrangement(m, diff):\n",
        "  #To Do\n",
        "  row,col = m.shape\n",
        "  trig = True\n",
        "  for i in range(row):\n",
        "    for j in range(i+1,col):\n",
        "      sum= abs(m[i,j]-m[j,i])\n",
        "      if sum!= diff:\n",
        "        trig = False\n",
        "\n",
        "  #if sum/diff == c:\n",
        "   # trig = True\n",
        "  #else:\n",
        "  #  trig = False\n",
        "\n",
        "\n",
        "\n",
        "\n",
        "\n",
        "  return trig\n",
        "\n",
        "m = np.array([[7,13,9,14],[12,8,15,11],[10,17,3,2],[15,10,1,4]])\n",
        "#m = np.array([[8,15,7,12],[13,2,18,11],[9,20,5,2],[14,9,0,10]])\n",
        "print_matrix(m)\n",
        "print()\n",
        "returned_value = arrangement(m,2)\n",
        "print(returned_value)#This should print False\n",
        "unittest.output_test(returned_value, False)"
      ],
      "metadata": {
        "id": "H4EDQCTfnes7",
        "colab": {
          "base_uri": "https://localhost:8080/"
        },
        "outputId": "c8aa60d9-20e6-43d4-c95c-cca0732be316"
      },
      "execution_count": null,
      "outputs": [
        {
          "output_type": "stream",
          "name": "stdout",
          "text": [
            "|  7  |  13 |  9  |  14 |\n",
            "-------------------------\n",
            "|  12 |  8  |  15 |  11 |\n",
            "-------------------------\n",
            "|  10 |  17 |  3  |  2  |\n",
            "-------------------------\n",
            "|  15 |  10 |  1  |  4  |\n",
            "-------------------------\n",
            "\n",
            "False\n",
            "Accepted\n"
          ]
        }
      ]
    },
    {
      "cell_type": "markdown",
      "source": [
        "Task 4: Chess Piece"
      ],
      "metadata": {
        "id": "dULlGfSWoa_-"
      }
    },
    {
      "cell_type": "code",
      "source": [
        "def show_knight_move(knight):\n",
        "  #To Do\n",
        "  board = np.zeros((8,8),dtype = int)\n",
        "  kr,kc = knight\n",
        "  moves = [0]*8\n",
        "  board[kr,kc] = 33\n",
        "  t = 0\n",
        "  while t<8:\n",
        "    for i in range(2):\n",
        "      kr = knight[0]\n",
        "      if i==0:\n",
        "        kr+=2\n",
        "      else:\n",
        "        kr-=2\n",
        "\n",
        "      for j in range(2):\n",
        "        kc = knight[1]\n",
        "        if j  == 0 :\n",
        "          kc+=1\n",
        "        else:\n",
        "          kc-=1\n",
        "        moves[t]=(kr,kc)\n",
        "        t+=1\n",
        "      #t+=1\n",
        "    for i in range(2):\n",
        "      kc = knight[1]\n",
        "      if i==0:\n",
        "        kc+=2\n",
        "      else:\n",
        "        kc-=2\n",
        "\n",
        "      for j in range(2):\n",
        "        kr = knight[0]\n",
        "        if j == 0 :\n",
        "          kr+=1\n",
        "        else:\n",
        "          kr-=1\n",
        "        moves[t]=(kr,kc)\n",
        "        t+=1\n",
        "    #t+=1\n",
        "\n",
        "  for i in moves:\n",
        "    x,y = i\n",
        "    if (x >= 0 and x <8) and (y>=0 and y<8):\n",
        "      board[i]=3\n",
        "\n",
        "\n",
        "\n",
        "\n",
        "\n",
        "\n",
        "\n",
        "  return board\n",
        "\n",
        "\n",
        "knight = (7,7)\n",
        "chess_board=show_knight_move(knight)\n",
        "print_matrix(chess_board)"
      ],
      "metadata": {
        "id": "CXu8BAjWn6IN",
        "colab": {
          "base_uri": "https://localhost:8080/"
        },
        "outputId": "459a2c19-6f4d-4825-bce7-ac6bc5adf66b"
      },
      "execution_count": null,
      "outputs": [
        {
          "output_type": "stream",
          "name": "stdout",
          "text": [
            "|  0  |  0  |  0  |  0  |  0  |  0  |  0  |  0  |\n",
            "-------------------------------------------------\n",
            "|  0  |  0  |  0  |  0  |  0  |  0  |  0  |  0  |\n",
            "-------------------------------------------------\n",
            "|  0  |  0  |  0  |  0  |  0  |  0  |  0  |  0  |\n",
            "-------------------------------------------------\n",
            "|  0  |  0  |  0  |  0  |  0  |  0  |  0  |  0  |\n",
            "-------------------------------------------------\n",
            "|  0  |  0  |  0  |  0  |  0  |  0  |  0  |  0  |\n",
            "-------------------------------------------------\n",
            "|  0  |  0  |  0  |  0  |  0  |  0  |  3  |  0  |\n",
            "-------------------------------------------------\n",
            "|  0  |  0  |  0  |  0  |  0  |  3  |  0  |  0  |\n",
            "-------------------------------------------------\n",
            "|  0  |  0  |  0  |  0  |  0  |  0  |  0  |  33 |\n",
            "-------------------------------------------------\n"
          ]
        }
      ]
    },
    {
      "cell_type": "markdown",
      "source": [
        "Bonus Task (UNGRADED)"
      ],
      "metadata": {
        "id": "Dox4AStYo8Xk"
      }
    },
    {
      "cell_type": "code",
      "source": [
        "def topple(knight,rook):\n",
        "  #To Do\n",
        "  board = np.zeros((8,8),dtype = int)\n",
        "  board[rook]=5\n",
        "  board[knight]=33\n",
        "  kr,kc = knight\n",
        "  x = 0\n",
        "  t=0\n",
        "  knight_moves=[0]*8\n",
        "  rook_moves = [0]*14\n",
        "  while t<8:\n",
        "    for i in range(2):\n",
        "      kr = knight[0]\n",
        "      if i==0:\n",
        "        kr+=2\n",
        "      else:\n",
        "        kr-=2\n",
        "\n",
        "      for j in range(2):\n",
        "        kc = knight[1]\n",
        "        if j  == 0 :\n",
        "          kc+=1\n",
        "        else:\n",
        "          kc-=1\n",
        "        knight_moves[t]=(kr,kc)\n",
        "        t+=1\n",
        "      #t+=1\n",
        "    for i in range(2):\n",
        "      kc = knight[1]\n",
        "      if i==0:\n",
        "        kc+=2\n",
        "      else:\n",
        "        kc-=2\n",
        "\n",
        "      for j in range(2):\n",
        "        kr = knight[0]\n",
        "        if j == 0 :\n",
        "          kr+=1\n",
        "        else:\n",
        "          kr-=1\n",
        "        knight_moves[t]=(kr,kc)\n",
        "        t+=1\n",
        "  rr = rook[0]\n",
        "  rc = rook[1]\n",
        "  while x<14:\n",
        "    for i in range(7):\n",
        "\n",
        "      if rr+1<8:\n",
        "        #rr = rook[0]\n",
        "        rr+=1\n",
        "        rook_moves[x]=(rr,rook[1])\n",
        "        x+=1\n",
        "\n",
        "    rr = rook[0]\n",
        "    for i in range(7):\n",
        "\n",
        "      if rr-1>=0:\n",
        "        rr-=1\n",
        "        rook_moves[x]=(rr,rook[1])\n",
        "        x+=1\n",
        "\n",
        "    rr = rook[0]\n",
        "\n",
        "    for j in range(7):\n",
        "      #rc = rook[1]\n",
        "      if rc+1<8 :\n",
        "        rc+=1\n",
        "        rook_moves[x]=(rook[0],rc)\n",
        "        x+=1\n",
        "\n",
        "    rc = rook[1]\n",
        "    for j in range(7) :\n",
        "      if rc-1>=0:\n",
        "        rc-=1\n",
        "        rook_moves[x]=(rook[0],rc)\n",
        "        x+=1\n",
        "    rc=rook[1]\n",
        "  trig1 = False\n",
        "  trig2 =False\n",
        "  for i in knight_moves:\n",
        "    x,y = i\n",
        "    if (x >= 0 and x <8) and (y>=0 and y<8) and board[i]!= 5:\n",
        "      board[i]=3\n",
        "    if i == rook :\n",
        "      trig1 = True\n",
        "\n",
        "  for i in rook_moves:\n",
        "    if i == knight:\n",
        "      trig2  = True\n",
        "  if trig1==True:\n",
        "    if trig2==True:\n",
        "      c = 'Both can kill each other'\n",
        "    elif trig2 == False:\n",
        "      c = 'Knight can kill'\n",
        "  else:\n",
        "    if trig2==True:\n",
        "      c = 'Rook can kill'\n",
        "    elif trig2 == False:\n",
        "      c = 'Cannot Kill'\n",
        "  return (board,c)\n",
        "\n",
        "\n",
        "\n",
        "\n",
        "\n",
        "\n",
        "\n",
        "knight = (5,6)\n",
        "rook = (5,1)\n",
        "chess_board, ans = topple(knight,rook)\n",
        "print_matrix(chess_board)\n",
        "print(ans) #This should print Rook can kill"
      ],
      "metadata": {
        "id": "AvzKs7wnoraw",
        "colab": {
          "base_uri": "https://localhost:8080/"
        },
        "outputId": "8bc7bb1a-1bf4-4847-8cb6-750805dda897"
      },
      "execution_count": null,
      "outputs": [
        {
          "output_type": "stream",
          "name": "stdout",
          "text": [
            "|  0  |  0  |  0  |  0  |  0  |  0  |  0  |  0  |\n",
            "-------------------------------------------------\n",
            "|  0  |  0  |  0  |  0  |  0  |  0  |  0  |  0  |\n",
            "-------------------------------------------------\n",
            "|  0  |  0  |  0  |  0  |  0  |  0  |  0  |  0  |\n",
            "-------------------------------------------------\n",
            "|  0  |  0  |  0  |  0  |  0  |  3  |  0  |  3  |\n",
            "-------------------------------------------------\n",
            "|  0  |  0  |  0  |  0  |  3  |  0  |  0  |  0  |\n",
            "-------------------------------------------------\n",
            "|  0  |  5  |  0  |  0  |  0  |  0  |  33 |  0  |\n",
            "-------------------------------------------------\n",
            "|  0  |  0  |  0  |  0  |  3  |  0  |  0  |  0  |\n",
            "-------------------------------------------------\n",
            "|  0  |  0  |  0  |  0  |  0  |  3  |  0  |  3  |\n",
            "-------------------------------------------------\n",
            "Rook can kill\n"
          ]
        }
      ]
    }
  ]
}